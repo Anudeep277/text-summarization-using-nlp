{
 "cells": [
  {
   "cell_type": "code",
   "execution_count": 11,
   "metadata": {},
   "outputs": [],
   "source": [
    "import spacy\n",
    "from spacy.lang.en.stop_words import STOP_WORDS\n",
    "from string import punctuation"
   ]
  },
  {
   "cell_type": "code",
   "execution_count": 12,
   "metadata": {},
   "outputs": [],
   "source": [
    "stopwords=list(STOP_WORDS)"
   ]
  },
  {
   "cell_type": "code",
   "execution_count": 13,
   "metadata": {},
   "outputs": [],
   "source": [
    "nlp=spacy.load(\"en_core_web_sm\")"
   ]
  },
  {
   "cell_type": "code",
   "execution_count": 14,
   "metadata": {},
   "outputs": [],
   "source": [
    "text=\"\"\"Muhammad Ali (/ɑːˈliː/;[3] born Cassius Marcellus Clay Jr.;[4] January 17, 1942 – June 3, 2016) was an American professional boxer, activist, and philanthropist. Nicknamed \"The Greatest\", he is widely regarded as one of the most significant and celebrated figures of the 20th century and as one of the greatest boxers of all time.\n",
    "Ali was born and raised in Louisville, Kentucky, and began training as an amateur boxer at age 12. At 18, he won a gold medal in the light heavyweight division at the 1960 Summer Olympics, and turned professional later that year. He converted to Islam and became a Muslim after 1961, and eventually took the name Muhammad Ali. He won the world heavyweight championship from Sonny Liston in a major upset at age 22 in 1964. In 1966, Ali refused to be drafted into the military, citing his religious beliefs and opposition to the Vietnam War.[5][6] He was arrested, found guilty of draft evasion, and stripped of his boxing titles. He appealed the decision to the Supreme Court, which overturned his conviction in 1971, but he had not fought for nearly four years and lost a period of peak performance as an athlete. His actions as a conscientious objector to the war made him an icon for the larger counterculture generation,[7][8] and he was a high-profile figure of racial pride for African Americans during the civil rights movement.[5][9] As a Muslim, Ali was initially affiliated with Elijah Muhammad's Nation of Islam (NOI). He later disavowed the NOI, adhering to Sunni Islam, and supporting racial integration like his former mentor Malcolm X.\n",
    "Ali was a leading heavyweight boxer of the 20th century, and he remains the only three-time lineal champion of that division. His joint records of beating 21 boxers for the world heavyweight title and winning 14 unified title bouts stood for 35 years.[10][11][note 1] Ali is the only boxer to be named the Ring magazine Fighter of the Year six times. He has been ranked the greatest heavyweight boxer of all time,[12] and as the greatest athlete of the 20th century by Sports Illustrated, the Sports Personality of the Century by the BBC, and the third greatest athlete of the 20th century by ESPN SportsCentury.[13][14] He was involved in several historic boxing matches and feuds, most notably his fights with Joe Frazier, such as the Thrilla in Manila, and his fight with George Foreman known as The Rumble in the Jungle which has been called \"arguably the greatest sporting event of the 20th century\"[15][16] and was watched by a record estimated television audience of 1 billion viewers worldwide,[17][18] becoming the world's most-watched live television broadcast at the time. Ali thrived in the spotlight at a time when many fighters let their managers do the talking, and he was often provocative and outlandish.[19][20][21] He was famous for trash-talking, and often free-styled with rhyme schemes and spoken word poetry, anticipating elements of hip hop.[22][23][24]\n",
    "Ali was arguably the most famous and documented human of the 20th century. Ali was known to be a very generous person who loved attention, as well as making other people happy. He never rejected an autograph, as he remembered how he'd felt as a youth when he was denied an autograph from his boxing idol, Sugar Ray Robinson; he would sometimes spend hours meeting people and signing autographs.[25] Ali also attained success as a musician, receiving two Grammy award nominations.[24] He was an ocassional actor, and a writer who released two autobiographies. Ali retired from boxing in 1981, and focused on religion, helping people by donating millions to charities and marching for people's rights to raise awareness for issues, in the U.S. and elsewhere. In 1984, he made public his diagnosis of Parkinson's disease, which some reports attribute to boxing-related injuries,[26] though he and his specialist physicians disputed this.[27] He remained an active public figure globally, but in his later years made increasingly limited public appearances as his condition worsened, and he was cared for by his family.\n",
    "\"\"\""
   ]
  },
  {
   "cell_type": "code",
   "execution_count": 15,
   "metadata": {},
   "outputs": [],
   "source": [
    "doc=nlp(text)"
   ]
  },
  {
   "cell_type": "code",
   "execution_count": 16,
   "metadata": {},
   "outputs": [
    {
     "name": "stdout",
     "output_type": "stream",
     "text": [
      "['Muhammad', 'Ali', '(', '/ɑːˈliː/;[3', ']', 'born', 'Cassius', 'Marcellus', 'Clay', 'Jr.;[4', ']', 'January', '17', ',', '1942', '–', 'June', '3', ',', '2016', ')', 'was', 'an', 'American', 'professional', 'boxer', ',', 'activist', ',', 'and', 'philanthropist', '.', 'Nicknamed', '\"', 'The', 'Greatest', '\"', ',', 'he', 'is', 'widely', 'regarded', 'as', 'one', 'of', 'the', 'most', 'significant', 'and', 'celebrated', 'figures', 'of', 'the', '20th', 'century', 'and', 'as', 'one', 'of', 'the', 'greatest', 'boxers', 'of', 'all', 'time', '.', '\\n', 'Ali', 'was', 'born', 'and', 'raised', 'in', 'Louisville', ',', 'Kentucky', ',', 'and', 'began', 'training', 'as', 'an', 'amateur', 'boxer', 'at', 'age', '12', '.', 'At', '18', ',', 'he', 'won', 'a', 'gold', 'medal', 'in', 'the', 'light', 'heavyweight', 'division', 'at', 'the', '1960', 'Summer', 'Olympics', ',', 'and', 'turned', 'professional', 'later', 'that', 'year', '.', 'He', 'converted', 'to', 'Islam', 'and', 'became', 'a', 'Muslim', 'after', '1961', ',', 'and', 'eventually', 'took', 'the', 'name', 'Muhammad', 'Ali', '.', 'He', 'won', 'the', 'world', 'heavyweight', 'championship', 'from', 'Sonny', 'Liston', 'in', 'a', 'major', 'upset', 'at', 'age', '22', 'in', '1964', '.', 'In', '1966', ',', 'Ali', 'refused', 'to', 'be', 'drafted', 'into', 'the', 'military', ',', 'citing', 'his', 'religious', 'beliefs', 'and', 'opposition', 'to', 'the', 'Vietnam', 'War.[5][6', ']', 'He', 'was', 'arrested', ',', 'found', 'guilty', 'of', 'draft', 'evasion', ',', 'and', 'stripped', 'of', 'his', 'boxing', 'titles', '.', 'He', 'appealed', 'the', 'decision', 'to', 'the', 'Supreme', 'Court', ',', 'which', 'overturned', 'his', 'conviction', 'in', '1971', ',', 'but', 'he', 'had', 'not', 'fought', 'for', 'nearly', 'four', 'years', 'and', 'lost', 'a', 'period', 'of', 'peak', 'performance', 'as', 'an', 'athlete', '.', 'His', 'actions', 'as', 'a', 'conscientious', 'objector', 'to', 'the', 'war', 'made', 'him', 'an', 'icon', 'for', 'the', 'larger', 'counterculture', 'generation,[7][8', ']', 'and', 'he', 'was', 'a', 'high', '-', 'profile', 'figure', 'of', 'racial', 'pride', 'for', 'African', 'Americans', 'during', 'the', 'civil', 'rights', 'movement.[5][9', ']', 'As', 'a', 'Muslim', ',', 'Ali', 'was', 'initially', 'affiliated', 'with', 'Elijah', 'Muhammad', \"'s\", 'Nation', 'of', 'Islam', '(', 'NOI', ')', '.', 'He', 'later', 'disavowed', 'the', 'NOI', ',', 'adhering', 'to', 'Sunni', 'Islam', ',', 'and', 'supporting', 'racial', 'integration', 'like', 'his', 'former', 'mentor', 'Malcolm', 'X.', '\\n', 'Ali', 'was', 'a', 'leading', 'heavyweight', 'boxer', 'of', 'the', '20th', 'century', ',', 'and', 'he', 'remains', 'the', 'only', 'three', '-', 'time', 'lineal', 'champion', 'of', 'that', 'division', '.', 'His', 'joint', 'records', 'of', 'beating', '21', 'boxers', 'for', 'the', 'world', 'heavyweight', 'title', 'and', 'winning', '14', 'unified', 'title', 'bouts', 'stood', 'for', '35', 'years.[10][11][note', '1', ']', 'Ali', 'is', 'the', 'only', 'boxer', 'to', 'be', 'named', 'the', 'Ring', 'magazine', 'Fighter', 'of', 'the', 'Year', 'six', 'times', '.', 'He', 'has', 'been', 'ranked', 'the', 'greatest', 'heavyweight', 'boxer', 'of', 'all', 'time,[12', ']', 'and', 'as', 'the', 'greatest', 'athlete', 'of', 'the', '20th', 'century', 'by', 'Sports', 'Illustrated', ',', 'the', 'Sports', 'Personality', 'of', 'the', 'Century', 'by', 'the', 'BBC', ',', 'and', 'the', 'third', 'greatest', 'athlete', 'of', 'the', '20th', 'century', 'by', 'ESPN', 'SportsCentury.[13][14', ']', 'He', 'was', 'involved', 'in', 'several', 'historic', 'boxing', 'matches', 'and', 'feuds', ',', 'most', 'notably', 'his', 'fights', 'with', 'Joe', 'Frazier', ',', 'such', 'as', 'the', 'Thrilla', 'in', 'Manila', ',', 'and', 'his', 'fight', 'with', 'George', 'Foreman', 'known', 'as', 'The', 'Rumble', 'in', 'the', 'Jungle', 'which', 'has', 'been', 'called', '\"', 'arguably', 'the', 'greatest', 'sporting', 'event', 'of', 'the', '20th', 'century\"[15][16', ']', 'and', 'was', 'watched', 'by', 'a', 'record', 'estimated', 'television', 'audience', 'of', '1', 'billion', 'viewers', 'worldwide,[17][18', ']', 'becoming', 'the', 'world', \"'s\", 'most', '-', 'watched', 'live', 'television', 'broadcast', 'at', 'the', 'time', '.', 'Ali', 'thrived', 'in', 'the', 'spotlight', 'at', 'a', 'time', 'when', 'many', 'fighters', 'let', 'their', 'managers', 'do', 'the', 'talking', ',', 'and', 'he', 'was', 'often', 'provocative', 'and', 'outlandish.[19][20][21', ']', 'He', 'was', 'famous', 'for', 'trash', '-', 'talking', ',', 'and', 'often', 'free', '-', 'styled', 'with', 'rhyme', 'schemes', 'and', 'spoken', 'word', 'poetry', ',', 'anticipating', 'elements', 'of', 'hip', 'hop.[22][23][24', ']', '\\n', 'Ali', 'was', 'arguably', 'the', 'most', 'famous', 'and', 'documented', 'human', 'of', 'the', '20th', 'century', '.', 'Ali', 'was', 'known', 'to', 'be', 'a', 'very', 'generous', 'person', 'who', 'loved', 'attention', ',', 'as', 'well', 'as', 'making', 'other', 'people', 'happy', '.', 'He', 'never', 'rejected', 'an', 'autograph', ',', 'as', 'he', 'remembered', 'how', 'he', \"'d\", 'felt', 'as', 'a', 'youth', 'when', 'he', 'was', 'denied', 'an', 'autograph', 'from', 'his', 'boxing', 'idol', ',', 'Sugar', 'Ray', 'Robinson', ';', 'he', 'would', 'sometimes', 'spend', 'hours', 'meeting', 'people', 'and', 'signing', 'autographs.[25', ']', 'Ali', 'also', 'attained', 'success', 'as', 'a', 'musician', ',', 'receiving', 'two', 'Grammy', 'award', 'nominations.[24', ']', 'He', 'was', 'an', 'ocassional', 'actor', ',', 'and', 'a', 'writer', 'who', 'released', 'two', 'autobiographies', '.', 'Ali', 'retired', 'from', 'boxing', 'in', '1981', ',', 'and', 'focused', 'on', 'religion', ',', 'helping', 'people', 'by', 'donating', 'millions', 'to', 'charities', 'and', 'marching', 'for', 'people', \"'s\", 'rights', 'to', 'raise', 'awareness', 'for', 'issues', ',', 'in', 'the', 'U.S.', 'and', 'elsewhere', '.', 'In', '1984', ',', 'he', 'made', 'public', 'his', 'diagnosis', 'of', 'Parkinson', \"'s\", 'disease', ',', 'which', 'some', 'reports', 'attribute', 'to', 'boxing', '-', 'related', 'injuries,[26', ']', 'though', 'he', 'and', 'his', 'specialist', 'physicians', 'disputed', 'this.[27', ']', 'He', 'remained', 'an', 'active', 'public', 'figure', 'globally', ',', 'but', 'in', 'his', 'later', 'years', 'made', 'increasingly', 'limited', 'public', 'appearances', 'as', 'his', 'condition', 'worsened', ',', 'and', 'he', 'was', 'cared', 'for', 'by', 'his', 'family', '.', '\\n']\n"
     ]
    }
   ],
   "source": [
    "tokens=[tokens.text for tokens in doc]\n",
    "print(tokens)"
   ]
  },
  {
   "cell_type": "code",
   "execution_count": 17,
   "metadata": {},
   "outputs": [
    {
     "data": {
      "text/plain": [
       "'!\"#$%&\\'()*+,-./:;<=>?@[\\\\]^_`{|}~\\n'"
      ]
     },
     "execution_count": 17,
     "metadata": {},
     "output_type": "execute_result"
    }
   ],
   "source": [
    "punctuation = punctuation + \"\\n\"\n",
    "punctuation"
   ]
  },
  {
   "cell_type": "code",
   "execution_count": 24,
   "metadata": {},
   "outputs": [],
   "source": [
    "word_frequencies = {}\n",
    "for word in doc:\n",
    "    if word.text.lower() not in stopwords:\n",
    "        if word.text.lower() not in punctuation:\n",
    "            if word.text not in word_frequencies.keys():\n",
    "                word_frequencies[word.text]=1\n",
    "            else:\n",
    "                word_frequencies[word.text]+=1\n"
   ]
  },
  {
   "cell_type": "code",
   "execution_count": 25,
   "metadata": {},
   "outputs": [
    {
     "data": {
      "text/plain": [
       "{'Muhammad': 3,\n",
       " 'Ali': 12,\n",
       " '/ɑːˈliː/;[3': 1,\n",
       " 'born': 2,\n",
       " 'Cassius': 1,\n",
       " 'Marcellus': 1,\n",
       " 'Clay': 1,\n",
       " 'Jr.;[4': 1,\n",
       " 'January': 1,\n",
       " '17': 1,\n",
       " '1942': 1,\n",
       " '–': 1,\n",
       " 'June': 1,\n",
       " '3': 1,\n",
       " '2016': 1,\n",
       " 'American': 1,\n",
       " 'professional': 2,\n",
       " 'boxer': 5,\n",
       " 'activist': 1,\n",
       " 'philanthropist': 1,\n",
       " 'Nicknamed': 1,\n",
       " 'Greatest': 1,\n",
       " 'widely': 1,\n",
       " 'regarded': 1,\n",
       " 'significant': 1,\n",
       " 'celebrated': 1,\n",
       " 'figures': 1,\n",
       " '20th': 6,\n",
       " 'century': 5,\n",
       " 'greatest': 5,\n",
       " 'boxers': 2,\n",
       " 'time': 4,\n",
       " 'raised': 1,\n",
       " 'Louisville': 1,\n",
       " 'Kentucky': 1,\n",
       " 'began': 1,\n",
       " 'training': 1,\n",
       " 'amateur': 1,\n",
       " 'age': 2,\n",
       " '12': 1,\n",
       " '18': 1,\n",
       " 'won': 2,\n",
       " 'gold': 1,\n",
       " 'medal': 1,\n",
       " 'light': 1,\n",
       " 'heavyweight': 5,\n",
       " 'division': 2,\n",
       " '1960': 1,\n",
       " 'Summer': 1,\n",
       " 'Olympics': 1,\n",
       " 'turned': 1,\n",
       " 'later': 3,\n",
       " 'year': 1,\n",
       " 'converted': 1,\n",
       " 'Islam': 3,\n",
       " 'Muslim': 2,\n",
       " '1961': 1,\n",
       " 'eventually': 1,\n",
       " 'took': 1,\n",
       " 'world': 3,\n",
       " 'championship': 1,\n",
       " 'Sonny': 1,\n",
       " 'Liston': 1,\n",
       " 'major': 1,\n",
       " 'upset': 1,\n",
       " '22': 1,\n",
       " '1964': 1,\n",
       " '1966': 1,\n",
       " 'refused': 1,\n",
       " 'drafted': 1,\n",
       " 'military': 1,\n",
       " 'citing': 1,\n",
       " 'religious': 1,\n",
       " 'beliefs': 1,\n",
       " 'opposition': 1,\n",
       " 'Vietnam': 1,\n",
       " 'War.[5][6': 1,\n",
       " 'arrested': 1,\n",
       " 'found': 1,\n",
       " 'guilty': 1,\n",
       " 'draft': 1,\n",
       " 'evasion': 1,\n",
       " 'stripped': 1,\n",
       " 'boxing': 5,\n",
       " 'titles': 1,\n",
       " 'appealed': 1,\n",
       " 'decision': 1,\n",
       " 'Supreme': 1,\n",
       " 'Court': 1,\n",
       " 'overturned': 1,\n",
       " 'conviction': 1,\n",
       " '1971': 1,\n",
       " 'fought': 1,\n",
       " 'nearly': 1,\n",
       " 'years': 2,\n",
       " 'lost': 1,\n",
       " 'period': 1,\n",
       " 'peak': 1,\n",
       " 'performance': 1,\n",
       " 'athlete': 3,\n",
       " 'actions': 1,\n",
       " 'conscientious': 1,\n",
       " 'objector': 1,\n",
       " 'war': 1,\n",
       " 'icon': 1,\n",
       " 'larger': 1,\n",
       " 'counterculture': 1,\n",
       " 'generation,[7][8': 1,\n",
       " 'high': 1,\n",
       " 'profile': 1,\n",
       " 'figure': 2,\n",
       " 'racial': 2,\n",
       " 'pride': 1,\n",
       " 'African': 1,\n",
       " 'Americans': 1,\n",
       " 'civil': 1,\n",
       " 'rights': 2,\n",
       " 'movement.[5][9': 1,\n",
       " 'initially': 1,\n",
       " 'affiliated': 1,\n",
       " 'Elijah': 1,\n",
       " 'Nation': 1,\n",
       " 'NOI': 2,\n",
       " 'disavowed': 1,\n",
       " 'adhering': 1,\n",
       " 'Sunni': 1,\n",
       " 'supporting': 1,\n",
       " 'integration': 1,\n",
       " 'like': 1,\n",
       " 'mentor': 1,\n",
       " 'Malcolm': 1,\n",
       " 'X.': 1,\n",
       " 'leading': 1,\n",
       " 'remains': 1,\n",
       " 'lineal': 1,\n",
       " 'champion': 1,\n",
       " 'joint': 1,\n",
       " 'records': 1,\n",
       " 'beating': 1,\n",
       " '21': 1,\n",
       " 'title': 2,\n",
       " 'winning': 1,\n",
       " '14': 1,\n",
       " 'unified': 1,\n",
       " 'bouts': 1,\n",
       " 'stood': 1,\n",
       " '35': 1,\n",
       " 'years.[10][11][note': 1,\n",
       " '1': 2,\n",
       " 'named': 1,\n",
       " 'Ring': 1,\n",
       " 'magazine': 1,\n",
       " 'Fighter': 1,\n",
       " 'Year': 1,\n",
       " 'times': 1,\n",
       " 'ranked': 1,\n",
       " 'time,[12': 1,\n",
       " 'Sports': 2,\n",
       " 'Illustrated': 1,\n",
       " 'Personality': 1,\n",
       " 'Century': 1,\n",
       " 'BBC': 1,\n",
       " 'ESPN': 1,\n",
       " 'SportsCentury.[13][14': 1,\n",
       " 'involved': 1,\n",
       " 'historic': 1,\n",
       " 'matches': 1,\n",
       " 'feuds': 1,\n",
       " 'notably': 1,\n",
       " 'fights': 1,\n",
       " 'Joe': 1,\n",
       " 'Frazier': 1,\n",
       " 'Thrilla': 1,\n",
       " 'Manila': 1,\n",
       " 'fight': 1,\n",
       " 'George': 1,\n",
       " 'Foreman': 1,\n",
       " 'known': 2,\n",
       " 'Rumble': 1,\n",
       " 'Jungle': 1,\n",
       " 'called': 1,\n",
       " 'arguably': 2,\n",
       " 'sporting': 1,\n",
       " 'event': 1,\n",
       " 'century\"[15][16': 1,\n",
       " 'watched': 2,\n",
       " 'record': 1,\n",
       " 'estimated': 1,\n",
       " 'television': 2,\n",
       " 'audience': 1,\n",
       " 'billion': 1,\n",
       " 'viewers': 1,\n",
       " 'worldwide,[17][18': 1,\n",
       " 'live': 1,\n",
       " 'broadcast': 1,\n",
       " 'thrived': 1,\n",
       " 'spotlight': 1,\n",
       " 'fighters': 1,\n",
       " 'let': 1,\n",
       " 'managers': 1,\n",
       " 'talking': 2,\n",
       " 'provocative': 1,\n",
       " 'outlandish.[19][20][21': 1,\n",
       " 'famous': 2,\n",
       " 'trash': 1,\n",
       " 'free': 1,\n",
       " 'styled': 1,\n",
       " 'rhyme': 1,\n",
       " 'schemes': 1,\n",
       " 'spoken': 1,\n",
       " 'word': 1,\n",
       " 'poetry': 1,\n",
       " 'anticipating': 1,\n",
       " 'elements': 1,\n",
       " 'hip': 1,\n",
       " 'hop.[22][23][24': 1,\n",
       " 'documented': 1,\n",
       " 'human': 1,\n",
       " 'generous': 1,\n",
       " 'person': 1,\n",
       " 'loved': 1,\n",
       " 'attention': 1,\n",
       " 'making': 1,\n",
       " 'people': 4,\n",
       " 'happy': 1,\n",
       " 'rejected': 1,\n",
       " 'autograph': 2,\n",
       " 'remembered': 1,\n",
       " 'felt': 1,\n",
       " 'youth': 1,\n",
       " 'denied': 1,\n",
       " 'idol': 1,\n",
       " 'Sugar': 1,\n",
       " 'Ray': 1,\n",
       " 'Robinson': 1,\n",
       " 'spend': 1,\n",
       " 'hours': 1,\n",
       " 'meeting': 1,\n",
       " 'signing': 1,\n",
       " 'autographs.[25': 1,\n",
       " 'attained': 1,\n",
       " 'success': 1,\n",
       " 'musician': 1,\n",
       " 'receiving': 1,\n",
       " 'Grammy': 1,\n",
       " 'award': 1,\n",
       " 'nominations.[24': 1,\n",
       " 'ocassional': 1,\n",
       " 'actor': 1,\n",
       " 'writer': 1,\n",
       " 'released': 1,\n",
       " 'autobiographies': 1,\n",
       " 'retired': 1,\n",
       " '1981': 1,\n",
       " 'focused': 1,\n",
       " 'religion': 1,\n",
       " 'helping': 1,\n",
       " 'donating': 1,\n",
       " 'millions': 1,\n",
       " 'charities': 1,\n",
       " 'marching': 1,\n",
       " 'raise': 1,\n",
       " 'awareness': 1,\n",
       " 'issues': 1,\n",
       " 'U.S.': 1,\n",
       " '1984': 1,\n",
       " 'public': 3,\n",
       " 'diagnosis': 1,\n",
       " 'Parkinson': 1,\n",
       " 'disease': 1,\n",
       " 'reports': 1,\n",
       " 'attribute': 1,\n",
       " 'related': 1,\n",
       " 'injuries,[26': 1,\n",
       " 'specialist': 1,\n",
       " 'physicians': 1,\n",
       " 'disputed': 1,\n",
       " 'this.[27': 1,\n",
       " 'remained': 1,\n",
       " 'active': 1,\n",
       " 'globally': 1,\n",
       " 'increasingly': 1,\n",
       " 'limited': 1,\n",
       " 'appearances': 1,\n",
       " 'condition': 1,\n",
       " 'worsened': 1,\n",
       " 'cared': 1,\n",
       " 'family': 1}"
      ]
     },
     "execution_count": 25,
     "metadata": {},
     "output_type": "execute_result"
    }
   ],
   "source": [
    "word_frequencies"
   ]
  },
  {
   "cell_type": "code",
   "execution_count": 26,
   "metadata": {},
   "outputs": [
    {
     "data": {
      "text/plain": [
       "12"
      ]
     },
     "execution_count": 26,
     "metadata": {},
     "output_type": "execute_result"
    }
   ],
   "source": [
    "max_frequency=max(word_frequencies.values())\n",
    "max_frequency"
   ]
  },
  {
   "cell_type": "code",
   "execution_count": 27,
   "metadata": {},
   "outputs": [],
   "source": [
    "for word in word_frequencies.keys():\n",
    "    word_frequencies[word]=word_frequencies[word]/max_frequency"
   ]
  },
  {
   "cell_type": "code",
   "execution_count": 28,
   "metadata": {},
   "outputs": [
    {
     "name": "stdout",
     "output_type": "stream",
     "text": [
      "{'Muhammad': 0.25, 'Ali': 1.0, '/ɑːˈliː/;[3': 0.08333333333333333, 'born': 0.16666666666666666, 'Cassius': 0.08333333333333333, 'Marcellus': 0.08333333333333333, 'Clay': 0.08333333333333333, 'Jr.;[4': 0.08333333333333333, 'January': 0.08333333333333333, '17': 0.08333333333333333, '1942': 0.08333333333333333, '–': 0.08333333333333333, 'June': 0.08333333333333333, '3': 0.08333333333333333, '2016': 0.08333333333333333, 'American': 0.08333333333333333, 'professional': 0.16666666666666666, 'boxer': 0.4166666666666667, 'activist': 0.08333333333333333, 'philanthropist': 0.08333333333333333, 'Nicknamed': 0.08333333333333333, 'Greatest': 0.08333333333333333, 'widely': 0.08333333333333333, 'regarded': 0.08333333333333333, 'significant': 0.08333333333333333, 'celebrated': 0.08333333333333333, 'figures': 0.08333333333333333, '20th': 0.5, 'century': 0.4166666666666667, 'greatest': 0.4166666666666667, 'boxers': 0.16666666666666666, 'time': 0.3333333333333333, 'raised': 0.08333333333333333, 'Louisville': 0.08333333333333333, 'Kentucky': 0.08333333333333333, 'began': 0.08333333333333333, 'training': 0.08333333333333333, 'amateur': 0.08333333333333333, 'age': 0.16666666666666666, '12': 0.08333333333333333, '18': 0.08333333333333333, 'won': 0.16666666666666666, 'gold': 0.08333333333333333, 'medal': 0.08333333333333333, 'light': 0.08333333333333333, 'heavyweight': 0.4166666666666667, 'division': 0.16666666666666666, '1960': 0.08333333333333333, 'Summer': 0.08333333333333333, 'Olympics': 0.08333333333333333, 'turned': 0.08333333333333333, 'later': 0.25, 'year': 0.08333333333333333, 'converted': 0.08333333333333333, 'Islam': 0.25, 'Muslim': 0.16666666666666666, '1961': 0.08333333333333333, 'eventually': 0.08333333333333333, 'took': 0.08333333333333333, 'world': 0.25, 'championship': 0.08333333333333333, 'Sonny': 0.08333333333333333, 'Liston': 0.08333333333333333, 'major': 0.08333333333333333, 'upset': 0.08333333333333333, '22': 0.08333333333333333, '1964': 0.08333333333333333, '1966': 0.08333333333333333, 'refused': 0.08333333333333333, 'drafted': 0.08333333333333333, 'military': 0.08333333333333333, 'citing': 0.08333333333333333, 'religious': 0.08333333333333333, 'beliefs': 0.08333333333333333, 'opposition': 0.08333333333333333, 'Vietnam': 0.08333333333333333, 'War.[5][6': 0.08333333333333333, 'arrested': 0.08333333333333333, 'found': 0.08333333333333333, 'guilty': 0.08333333333333333, 'draft': 0.08333333333333333, 'evasion': 0.08333333333333333, 'stripped': 0.08333333333333333, 'boxing': 0.4166666666666667, 'titles': 0.08333333333333333, 'appealed': 0.08333333333333333, 'decision': 0.08333333333333333, 'Supreme': 0.08333333333333333, 'Court': 0.08333333333333333, 'overturned': 0.08333333333333333, 'conviction': 0.08333333333333333, '1971': 0.08333333333333333, 'fought': 0.08333333333333333, 'nearly': 0.08333333333333333, 'years': 0.16666666666666666, 'lost': 0.08333333333333333, 'period': 0.08333333333333333, 'peak': 0.08333333333333333, 'performance': 0.08333333333333333, 'athlete': 0.25, 'actions': 0.08333333333333333, 'conscientious': 0.08333333333333333, 'objector': 0.08333333333333333, 'war': 0.08333333333333333, 'icon': 0.08333333333333333, 'larger': 0.08333333333333333, 'counterculture': 0.08333333333333333, 'generation,[7][8': 0.08333333333333333, 'high': 0.08333333333333333, 'profile': 0.08333333333333333, 'figure': 0.16666666666666666, 'racial': 0.16666666666666666, 'pride': 0.08333333333333333, 'African': 0.08333333333333333, 'Americans': 0.08333333333333333, 'civil': 0.08333333333333333, 'rights': 0.16666666666666666, 'movement.[5][9': 0.08333333333333333, 'initially': 0.08333333333333333, 'affiliated': 0.08333333333333333, 'Elijah': 0.08333333333333333, 'Nation': 0.08333333333333333, 'NOI': 0.16666666666666666, 'disavowed': 0.08333333333333333, 'adhering': 0.08333333333333333, 'Sunni': 0.08333333333333333, 'supporting': 0.08333333333333333, 'integration': 0.08333333333333333, 'like': 0.08333333333333333, 'mentor': 0.08333333333333333, 'Malcolm': 0.08333333333333333, 'X.': 0.08333333333333333, 'leading': 0.08333333333333333, 'remains': 0.08333333333333333, 'lineal': 0.08333333333333333, 'champion': 0.08333333333333333, 'joint': 0.08333333333333333, 'records': 0.08333333333333333, 'beating': 0.08333333333333333, '21': 0.08333333333333333, 'title': 0.16666666666666666, 'winning': 0.08333333333333333, '14': 0.08333333333333333, 'unified': 0.08333333333333333, 'bouts': 0.08333333333333333, 'stood': 0.08333333333333333, '35': 0.08333333333333333, 'years.[10][11][note': 0.08333333333333333, '1': 0.16666666666666666, 'named': 0.08333333333333333, 'Ring': 0.08333333333333333, 'magazine': 0.08333333333333333, 'Fighter': 0.08333333333333333, 'Year': 0.08333333333333333, 'times': 0.08333333333333333, 'ranked': 0.08333333333333333, 'time,[12': 0.08333333333333333, 'Sports': 0.16666666666666666, 'Illustrated': 0.08333333333333333, 'Personality': 0.08333333333333333, 'Century': 0.08333333333333333, 'BBC': 0.08333333333333333, 'ESPN': 0.08333333333333333, 'SportsCentury.[13][14': 0.08333333333333333, 'involved': 0.08333333333333333, 'historic': 0.08333333333333333, 'matches': 0.08333333333333333, 'feuds': 0.08333333333333333, 'notably': 0.08333333333333333, 'fights': 0.08333333333333333, 'Joe': 0.08333333333333333, 'Frazier': 0.08333333333333333, 'Thrilla': 0.08333333333333333, 'Manila': 0.08333333333333333, 'fight': 0.08333333333333333, 'George': 0.08333333333333333, 'Foreman': 0.08333333333333333, 'known': 0.16666666666666666, 'Rumble': 0.08333333333333333, 'Jungle': 0.08333333333333333, 'called': 0.08333333333333333, 'arguably': 0.16666666666666666, 'sporting': 0.08333333333333333, 'event': 0.08333333333333333, 'century\"[15][16': 0.08333333333333333, 'watched': 0.16666666666666666, 'record': 0.08333333333333333, 'estimated': 0.08333333333333333, 'television': 0.16666666666666666, 'audience': 0.08333333333333333, 'billion': 0.08333333333333333, 'viewers': 0.08333333333333333, 'worldwide,[17][18': 0.08333333333333333, 'live': 0.08333333333333333, 'broadcast': 0.08333333333333333, 'thrived': 0.08333333333333333, 'spotlight': 0.08333333333333333, 'fighters': 0.08333333333333333, 'let': 0.08333333333333333, 'managers': 0.08333333333333333, 'talking': 0.16666666666666666, 'provocative': 0.08333333333333333, 'outlandish.[19][20][21': 0.08333333333333333, 'famous': 0.16666666666666666, 'trash': 0.08333333333333333, 'free': 0.08333333333333333, 'styled': 0.08333333333333333, 'rhyme': 0.08333333333333333, 'schemes': 0.08333333333333333, 'spoken': 0.08333333333333333, 'word': 0.08333333333333333, 'poetry': 0.08333333333333333, 'anticipating': 0.08333333333333333, 'elements': 0.08333333333333333, 'hip': 0.08333333333333333, 'hop.[22][23][24': 0.08333333333333333, 'documented': 0.08333333333333333, 'human': 0.08333333333333333, 'generous': 0.08333333333333333, 'person': 0.08333333333333333, 'loved': 0.08333333333333333, 'attention': 0.08333333333333333, 'making': 0.08333333333333333, 'people': 0.3333333333333333, 'happy': 0.08333333333333333, 'rejected': 0.08333333333333333, 'autograph': 0.16666666666666666, 'remembered': 0.08333333333333333, 'felt': 0.08333333333333333, 'youth': 0.08333333333333333, 'denied': 0.08333333333333333, 'idol': 0.08333333333333333, 'Sugar': 0.08333333333333333, 'Ray': 0.08333333333333333, 'Robinson': 0.08333333333333333, 'spend': 0.08333333333333333, 'hours': 0.08333333333333333, 'meeting': 0.08333333333333333, 'signing': 0.08333333333333333, 'autographs.[25': 0.08333333333333333, 'attained': 0.08333333333333333, 'success': 0.08333333333333333, 'musician': 0.08333333333333333, 'receiving': 0.08333333333333333, 'Grammy': 0.08333333333333333, 'award': 0.08333333333333333, 'nominations.[24': 0.08333333333333333, 'ocassional': 0.08333333333333333, 'actor': 0.08333333333333333, 'writer': 0.08333333333333333, 'released': 0.08333333333333333, 'autobiographies': 0.08333333333333333, 'retired': 0.08333333333333333, '1981': 0.08333333333333333, 'focused': 0.08333333333333333, 'religion': 0.08333333333333333, 'helping': 0.08333333333333333, 'donating': 0.08333333333333333, 'millions': 0.08333333333333333, 'charities': 0.08333333333333333, 'marching': 0.08333333333333333, 'raise': 0.08333333333333333, 'awareness': 0.08333333333333333, 'issues': 0.08333333333333333, 'U.S.': 0.08333333333333333, '1984': 0.08333333333333333, 'public': 0.25, 'diagnosis': 0.08333333333333333, 'Parkinson': 0.08333333333333333, 'disease': 0.08333333333333333, 'reports': 0.08333333333333333, 'attribute': 0.08333333333333333, 'related': 0.08333333333333333, 'injuries,[26': 0.08333333333333333, 'specialist': 0.08333333333333333, 'physicians': 0.08333333333333333, 'disputed': 0.08333333333333333, 'this.[27': 0.08333333333333333, 'remained': 0.08333333333333333, 'active': 0.08333333333333333, 'globally': 0.08333333333333333, 'increasingly': 0.08333333333333333, 'limited': 0.08333333333333333, 'appearances': 0.08333333333333333, 'condition': 0.08333333333333333, 'worsened': 0.08333333333333333, 'cared': 0.08333333333333333, 'family': 0.08333333333333333}\n"
     ]
    }
   ],
   "source": [
    "print(word_frequencies)"
   ]
  },
  {
   "cell_type": "code",
   "execution_count": 29,
   "metadata": {},
   "outputs": [
    {
     "name": "stdout",
     "output_type": "stream",
     "text": [
      "[Muhammad Ali (/ɑːˈliː/;[3] born Cassius Marcellus Clay Jr.;[4] January 17, 1942 – June 3, 2016) was an American professional boxer, activist, and philanthropist., Nicknamed \"The Greatest\", he is widely regarded as one of the most significant and celebrated figures of the 20th century and as one of the greatest boxers of all time.\n",
      ", Ali was born and raised in Louisville, Kentucky, and began training as an amateur boxer at age 12., At 18, he won a gold medal in the light heavyweight division at the 1960 Summer Olympics, and turned professional later that year., He converted to Islam and became a Muslim after 1961, and eventually took the name Muhammad Ali., He won the world heavyweight championship from Sonny Liston in a major upset at age 22 in 1964., In 1966, Ali refused to be drafted into the military, citing his religious beliefs and opposition to the Vietnam War.[5][6], He was arrested, found guilty of draft evasion, and stripped of his boxing titles., He appealed the decision to the Supreme Court, which overturned his conviction in 1971, but he had not fought for nearly four years and lost a period of peak performance as an athlete., His actions as a conscientious objector to the war made him an icon for the larger counterculture generation,[7][8] and he was a high-profile figure of racial pride for African Americans during the civil rights movement.[5][9], As a Muslim, Ali was initially affiliated with Elijah Muhammad's Nation of Islam (NOI)., He later disavowed the NOI, adhering to Sunni Islam, and supporting racial integration like his former mentor Malcolm X.\n",
      ", Ali was a leading heavyweight boxer of the 20th century, and he remains the only three-time lineal champion of that division., His joint records of beating 21 boxers for the world heavyweight title and winning 14 unified title bouts stood for 35 years.[10][11][note 1] Ali is the only boxer to be named the Ring magazine Fighter of the Year six times., He has been ranked the greatest heavyweight boxer of all time,[12] and as the greatest athlete of the 20th century by Sports Illustrated, the Sports Personality of the Century by the BBC, and the third greatest athlete of the 20th century by, ESPN SportsCentury.[13][14], He was involved in several historic boxing matches and feuds, most notably his fights with Joe Frazier, such as the Thrilla in Manila, and his fight with George Foreman known as The Rumble in the Jungle which has been called \"arguably the greatest sporting event of the 20th century\"[15][16] and was watched by a record estimated television audience of 1 billion viewers, worldwide,[17][18], becoming the world's most-watched live television broadcast at the time., Ali thrived in the spotlight at a time when many fighters let their managers do the talking, and he was often provocative and outlandish.[19][20][21], He was famous for trash-talking, and often free-styled with rhyme schemes and spoken word poetry, anticipating elements of hip hop.[22][23][24]\n",
      ", Ali was arguably the most famous and documented human of the 20th century., Ali was known to be a very generous person who loved attention, as well as making other people happy., He never rejected an autograph, as he remembered how he'd felt as a youth when he was denied an autograph from his boxing idol, Sugar Ray Robinson; he would sometimes spend hours meeting people and signing autographs.[25], Ali also attained success as a musician, receiving two Grammy award, nominations.[24], He was an ocassional actor, and a writer who released two autobiographies., Ali retired from boxing in 1981, and focused on religion, helping people by donating millions to charities and marching for people's rights to raise awareness for issues, in the U.S. and elsewhere., In 1984, he made public his diagnosis of Parkinson's disease, which some reports attribute to boxing-related injuries,[26] though he and his specialist physicians disputed this.[27], He remained an active public figure globally, but in his later years made increasingly limited public appearances as his condition worsened, and he was cared for by his family.\n",
      "]\n"
     ]
    }
   ],
   "source": [
    "sentence_tokens=[sent for sent in doc.sents]\n",
    "print(sentence_tokens)"
   ]
  },
  {
   "cell_type": "code",
   "execution_count": 32,
   "metadata": {},
   "outputs": [],
   "source": [
    "sentence_scores={}\n",
    "for sent in sentence_tokens:\n",
    "    for word in sent:\n",
    "        if word.text.lower() in word_frequencies.keys():\n",
    "            if sent not in sentence_scores.keys():\n",
    "                sentence_scores[sent]=word_frequencies[word.text.lower()]\n",
    "            else:\n",
    "                sentence_scores[sent]+=word_frequencies[word.text.lower()]\n",
    "           "
   ]
  },
  {
   "cell_type": "code",
   "execution_count": 33,
   "metadata": {},
   "outputs": [
    {
     "data": {
      "text/plain": [
       "{Muhammad Ali (/ɑːˈliː/;[3] born Cassius Marcellus Clay Jr.;[4] January 17, 1942 – June 3, 2016) was an American professional boxer, activist, and philanthropist.: 1.4166666666666665,\n",
       " Nicknamed \"The Greatest\", he is widely regarded as one of the most significant and celebrated figures of the 20th century and as one of the greatest boxers of all time.: 2.666666666666667,\n",
       " Ali was born and raised in Louisville, Kentucky, and began training as an amateur boxer at age 12.: 1.1666666666666665,\n",
       " At 18, he won a gold medal in the light heavyweight division at the 1960 Summer Olympics, and turned professional later that year.: 1.7499999999999998,\n",
       " He converted to Islam and became a Muslim after 1961, and eventually took the name Muhammad Ali.: 0.3333333333333333,\n",
       " He won the world heavyweight championship from Sonny Liston in a major upset at age 22 in 1964.: 1.4166666666666665,\n",
       " In 1966, Ali refused to be drafted into the military, citing his religious beliefs and opposition to the Vietnam War.[5][6]: 0.6666666666666666,\n",
       " He was arrested, found guilty of draft evasion, and stripped of his boxing titles.: 1.0,\n",
       " He appealed the decision to the Supreme Court, which overturned his conviction in 1971, but he had not fought for nearly four years and lost a period of peak performance as an athlete.: 1.3333333333333333,\n",
       " His actions as a conscientious objector to the war made him an icon for the larger counterculture generation,[7][8] and he was a high-profile figure of racial pride for African Americans during the civil rights movement.[5][9]: 1.5833333333333333,\n",
       " As a Muslim, Ali was initially affiliated with Elijah Muhammad's Nation of Islam (NOI).: 0.16666666666666666,\n",
       " He later disavowed the NOI, adhering to Sunni Islam, and supporting racial integration like his former mentor Malcolm X.: 0.9166666666666667,\n",
       " Ali was a leading heavyweight boxer of the 20th century, and he remains the only three-time lineal champion of that division.: 2.5833333333333335,\n",
       " His joint records of beating 21 boxers for the world heavyweight title and winning 14 unified title bouts stood for 35 years.[10][11][note 1] Ali is the only boxer to be named the Ring magazine Fighter of the Year six times.: 3.0,\n",
       " He has been ranked the greatest heavyweight boxer of all time,[12] and as the greatest athlete of the 20th century by Sports Illustrated, the Sports Personality of the Century by the BBC, and the third greatest athlete of the 20th century by: 5.0,\n",
       " He was involved in several historic boxing matches and feuds, most notably his fights with Joe Frazier, such as the Thrilla in Manila, and his fight with George Foreman known as The Rumble in the Jungle which has been called \"arguably the greatest sporting event of the 20th century\"[15][16] and was watched by a record estimated television audience of 1 billion viewers: 3.500000000000001,\n",
       " worldwide,[17][18]: 0.08333333333333333,\n",
       " becoming the world's most-watched live television broadcast at the time.: 1.0833333333333333,\n",
       " Ali thrived in the spotlight at a time when many fighters let their managers do the talking, and he was often provocative and outlandish.[19][20][21]: 1.0833333333333333,\n",
       " He was famous for trash-talking, and often free-styled with rhyme schemes and spoken word poetry, anticipating elements of hip hop.[22][23][24]: 1.333333333333333,\n",
       " Ali was arguably the most famous and documented human of the 20th century.: 1.4166666666666667,\n",
       " Ali was known to be a very generous person who loved attention, as well as making other people happy.: 0.9999999999999999,\n",
       " He never rejected an autograph, as he remembered how he'd felt as a youth when he was denied an autograph from his boxing idol, Sugar Ray Robinson; he would sometimes spend hours meeting people and signing autographs.[25]: 1.9999999999999993,\n",
       " Ali also attained success as a musician, receiving two Grammy award: 0.41666666666666663,\n",
       " nominations.[24]: 0.08333333333333333,\n",
       " He was an ocassional actor, and a writer who released two autobiographies.: 0.41666666666666663,\n",
       " Ali retired from boxing in 1981, and focused on religion, helping people by donating millions to charities and marching for people's rights to raise awareness for issues, in the U.S. and elsewhere.: 2.25,\n",
       " In 1984, he made public his diagnosis of Parkinson's disease, which some reports attribute to boxing-related injuries,[26] though he and his specialist physicians disputed this.[27]: 1.5833333333333328,\n",
       " He remained an active public figure globally, but in his later years made increasingly limited public appearances as his condition worsened, and he was cared for by his family.: 1.916666666666666}"
      ]
     },
     "execution_count": 33,
     "metadata": {},
     "output_type": "execute_result"
    }
   ],
   "source": [
    "sentence_scores"
   ]
  },
  {
   "cell_type": "code",
   "execution_count": 34,
   "metadata": {},
   "outputs": [],
   "source": [
    "from heapq import nlargest"
   ]
  },
  {
   "cell_type": "code",
   "execution_count": 35,
   "metadata": {},
   "outputs": [
    {
     "data": {
      "text/plain": [
       "9"
      ]
     },
     "execution_count": 35,
     "metadata": {},
     "output_type": "execute_result"
    }
   ],
   "source": [
    "select_length=int(len(sentence_tokens)*0.3)\n",
    "select_length"
   ]
  },
  {
   "cell_type": "code",
   "execution_count": 36,
   "metadata": {},
   "outputs": [],
   "source": [
    "summary=nlargest(select_length,sentence_scores,key=sentence_scores.get)"
   ]
  },
  {
   "cell_type": "code",
   "execution_count": 37,
   "metadata": {},
   "outputs": [
    {
     "data": {
      "text/plain": [
       "[He has been ranked the greatest heavyweight boxer of all time,[12] and as the greatest athlete of the 20th century by Sports Illustrated, the Sports Personality of the Century by the BBC, and the third greatest athlete of the 20th century by,\n",
       " He was involved in several historic boxing matches and feuds, most notably his fights with Joe Frazier, such as the Thrilla in Manila, and his fight with George Foreman known as The Rumble in the Jungle which has been called \"arguably the greatest sporting event of the 20th century\"[15][16] and was watched by a record estimated television audience of 1 billion viewers,\n",
       " His joint records of beating 21 boxers for the world heavyweight title and winning 14 unified title bouts stood for 35 years.[10][11][note 1] Ali is the only boxer to be named the Ring magazine Fighter of the Year six times.,\n",
       " Nicknamed \"The Greatest\", he is widely regarded as one of the most significant and celebrated figures of the 20th century and as one of the greatest boxers of all time.,\n",
       " Ali was a leading heavyweight boxer of the 20th century, and he remains the only three-time lineal champion of that division.,\n",
       " Ali retired from boxing in 1981, and focused on religion, helping people by donating millions to charities and marching for people's rights to raise awareness for issues, in the U.S. and elsewhere.,\n",
       " He never rejected an autograph, as he remembered how he'd felt as a youth when he was denied an autograph from his boxing idol, Sugar Ray Robinson; he would sometimes spend hours meeting people and signing autographs.[25],\n",
       " He remained an active public figure globally, but in his later years made increasingly limited public appearances as his condition worsened, and he was cared for by his family.,\n",
       " At 18, he won a gold medal in the light heavyweight division at the 1960 Summer Olympics, and turned professional later that year.]"
      ]
     },
     "execution_count": 37,
     "metadata": {},
     "output_type": "execute_result"
    }
   ],
   "source": [
    "summary"
   ]
  },
  {
   "cell_type": "code",
   "execution_count": 38,
   "metadata": {},
   "outputs": [],
   "source": [
    "final_summary=[word.text for word in summary]"
   ]
  },
  {
   "cell_type": "code",
   "execution_count": 39,
   "metadata": {},
   "outputs": [
    {
     "data": {
      "text/plain": [
       "['He has been ranked the greatest heavyweight boxer of all time,[12] and as the greatest athlete of the 20th century by Sports Illustrated, the Sports Personality of the Century by the BBC, and the third greatest athlete of the 20th century by',\n",
       " 'He was involved in several historic boxing matches and feuds, most notably his fights with Joe Frazier, such as the Thrilla in Manila, and his fight with George Foreman known as The Rumble in the Jungle which has been called \"arguably the greatest sporting event of the 20th century\"[15][16] and was watched by a record estimated television audience of 1 billion viewers',\n",
       " 'His joint records of beating 21 boxers for the world heavyweight title and winning 14 unified title bouts stood for 35 years.[10][11][note 1] Ali is the only boxer to be named the Ring magazine Fighter of the Year six times.',\n",
       " 'Nicknamed \"The Greatest\", he is widely regarded as one of the most significant and celebrated figures of the 20th century and as one of the greatest boxers of all time.\\n',\n",
       " 'Ali was a leading heavyweight boxer of the 20th century, and he remains the only three-time lineal champion of that division.',\n",
       " \"Ali retired from boxing in 1981, and focused on religion, helping people by donating millions to charities and marching for people's rights to raise awareness for issues, in the U.S. and elsewhere.\",\n",
       " \"He never rejected an autograph, as he remembered how he'd felt as a youth when he was denied an autograph from his boxing idol, Sugar Ray Robinson; he would sometimes spend hours meeting people and signing autographs.[25]\",\n",
       " 'He remained an active public figure globally, but in his later years made increasingly limited public appearances as his condition worsened, and he was cared for by his family.\\n',\n",
       " 'At 18, he won a gold medal in the light heavyweight division at the 1960 Summer Olympics, and turned professional later that year.']"
      ]
     },
     "execution_count": 39,
     "metadata": {},
     "output_type": "execute_result"
    }
   ],
   "source": [
    "final_summary"
   ]
  },
  {
   "cell_type": "code",
   "execution_count": 40,
   "metadata": {},
   "outputs": [],
   "source": [
    "summary=\" \".join(final_summary)"
   ]
  },
  {
   "cell_type": "code",
   "execution_count": 41,
   "metadata": {},
   "outputs": [
    {
     "data": {
      "text/plain": [
       "'He has been ranked the greatest heavyweight boxer of all time,[12] and as the greatest athlete of the 20th century by Sports Illustrated, the Sports Personality of the Century by the BBC, and the third greatest athlete of the 20th century by He was involved in several historic boxing matches and feuds, most notably his fights with Joe Frazier, such as the Thrilla in Manila, and his fight with George Foreman known as The Rumble in the Jungle which has been called \"arguably the greatest sporting event of the 20th century\"[15][16] and was watched by a record estimated television audience of 1 billion viewers His joint records of beating 21 boxers for the world heavyweight title and winning 14 unified title bouts stood for 35 years.[10][11][note 1] Ali is the only boxer to be named the Ring magazine Fighter of the Year six times. Nicknamed \"The Greatest\", he is widely regarded as one of the most significant and celebrated figures of the 20th century and as one of the greatest boxers of all time.\\n Ali was a leading heavyweight boxer of the 20th century, and he remains the only three-time lineal champion of that division. Ali retired from boxing in 1981, and focused on religion, helping people by donating millions to charities and marching for people\\'s rights to raise awareness for issues, in the U.S. and elsewhere. He never rejected an autograph, as he remembered how he\\'d felt as a youth when he was denied an autograph from his boxing idol, Sugar Ray Robinson; he would sometimes spend hours meeting people and signing autographs.[25] He remained an active public figure globally, but in his later years made increasingly limited public appearances as his condition worsened, and he was cared for by his family.\\n At 18, he won a gold medal in the light heavyweight division at the 1960 Summer Olympics, and turned professional later that year.'"
      ]
     },
     "execution_count": 41,
     "metadata": {},
     "output_type": "execute_result"
    }
   ],
   "source": [
    "summary"
   ]
  }
 ],
 "metadata": {
  "kernelspec": {
   "display_name": "Python 3",
   "language": "python",
   "name": "python3"
  },
  "language_info": {
   "codemirror_mode": {
    "name": "ipython",
    "version": 3
   },
   "file_extension": ".py",
   "mimetype": "text/x-python",
   "name": "python",
   "nbconvert_exporter": "python",
   "pygments_lexer": "ipython3",
   "version": "3.8.3"
  }
 },
 "nbformat": 4,
 "nbformat_minor": 4
}
